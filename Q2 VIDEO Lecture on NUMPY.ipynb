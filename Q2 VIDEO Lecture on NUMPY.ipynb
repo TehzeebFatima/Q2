{
 "cells": [
  {
   "cell_type": "markdown",
   "metadata": {},
   "source": [
    "PYTHON VS NUMPY, lets check the speed of both!"
   ]
  },
  {
   "cell_type": "code",
   "execution_count": 1,
   "metadata": {},
   "outputs": [],
   "source": [
    "l = range (100000)\n"
   ]
  },
  {
   "cell_type": "code",
   "execution_count": 2,
   "metadata": {},
   "outputs": [],
   "source": [
    "import numpy as np"
   ]
  },
  {
   "cell_type": "code",
   "execution_count": 3,
   "metadata": {},
   "outputs": [],
   "source": [
    "#  range in Python ===>  generates list\n",
    "#  arange in Numpy ====> generates list.\n",
    "#  Numpy performs actions 100 times faster than Python and other libraries. \n",
    "#  Python libraries use Numpy as a base for Data exchange. Often called 'Lingua Franca for Python libraries'"
   ]
  },
  {
   "cell_type": "code",
   "execution_count": 4,
   "metadata": {},
   "outputs": [],
   "source": [
    "d = np.arange(100000)"
   ]
  },
  {
   "cell_type": "code",
   "execution_count": 5,
   "metadata": {},
   "outputs": [
    {
     "name": "stdout",
     "output_type": "stream",
     "text": [
      "CPU times: user 108 ms, sys: 12 ms, total: 120 ms\n",
      "Wall time: 119 ms\n"
     ]
    }
   ],
   "source": [
    "%time for i in range (1,10):  [x*2 for x in l]  #x is a number *2 from l           #total: 117 ms"
   ]
  },
  {
   "cell_type": "code",
   "execution_count": 6,
   "metadata": {},
   "outputs": [
    {
     "name": "stdout",
     "output_type": "stream",
     "text": [
      "CPU times: user 6.59 ms, sys: 263 µs, total: 6.85 ms\n",
      "Wall time: 5.91 ms\n"
     ]
    }
   ],
   "source": [
    "%time for i in range (1,10): r = d*2                                              #total: 9.61 ms"
   ]
  },
  {
   "cell_type": "markdown",
   "metadata": {},
   "source": [
    "# ndArray"
   ]
  },
  {
   "cell_type": "code",
   "execution_count": 7,
   "metadata": {},
   "outputs": [],
   "source": [
    "#  fast, flexible containers for large data sets in Pyton.\n",
    "# Homogeneous data i.e all elements must be of same type.\n",
    "#  size of the arrray determined by tupple."
   ]
  },
  {
   "cell_type": "code",
   "execution_count": 8,
   "metadata": {},
   "outputs": [
    {
     "data": {
      "text/plain": [
       "array([[0., 0., 0., 0.],\n",
       "       [0., 0., 0., 0.],\n",
       "       [0., 0., 0., 0.],\n",
       "       [0., 0., 0., 0.]])"
      ]
     },
     "execution_count": 8,
     "metadata": {},
     "output_type": "execute_result"
    }
   ],
   "source": [
    "x = np.zeros ((4,4))\n",
    "x"
   ]
  },
  {
   "cell_type": "code",
   "execution_count": 9,
   "metadata": {},
   "outputs": [
    {
     "data": {
      "text/plain": [
       "array([[1., 1., 1., 1., 1., 1.],\n",
       "       [1., 1., 1., 1., 1., 1.],\n",
       "       [1., 1., 1., 1., 1., 1.],\n",
       "       [1., 1., 1., 1., 1., 1.],\n",
       "       [1., 1., 1., 1., 1., 1.],\n",
       "       [1., 1., 1., 1., 1., 1.]])"
      ]
     },
     "execution_count": 9,
     "metadata": {},
     "output_type": "execute_result"
    }
   ],
   "source": [
    "y = np.ones ((6,6))\n",
    "y"
   ]
  },
  {
   "cell_type": "code",
   "execution_count": 11,
   "metadata": {},
   "outputs": [
    {
     "data": {
      "text/plain": [
       "array([[2.08804617e-115, 6.46572285e+170, 1.10633865e+200,\n",
       "        1.05604052e+267, 4.51634594e+217, 1.05019735e-153,\n",
       "        5.82471374e+257],\n",
       "       [1.69593624e-152, 9.35319239e+252, 5.75680933e+252,\n",
       "        2.37269831e+267, 6.01346953e-154, 4.70107982e+180,\n",
       "        7.20185273e+159],\n",
       "       [8.82893671e+199, 6.01346953e-154, 1.33360291e+241,\n",
       "        1.53584743e-253, 2.64089007e-313, 2.98233776e-308,\n",
       "        1.33360296e+241],\n",
       "       [8.39037136e-311, 3.22635710e-307, 2.03016870e-316,\n",
       "        4.16865225e+199, 1.43762582e+217, 4.61249234e-303,\n",
       "        3.10362194e+175],\n",
       "       [1.05335199e+277, 3.81291163e+180, 1.71387267e+214,\n",
       "        4.79129674e-309, 5.80220124e+180, 2.12369026e+127,\n",
       "        4.24297177e+228],\n",
       "       [7.80002581e-271, 8.36775750e+242, 2.95806213e-311,\n",
       "        5.03961303e-266, 2.56930068e+151, 6.19634321e+223,\n",
       "        6.79153007e+199],\n",
       "       [3.38460686e+125, 2.29046322e+159, 3.06567261e-313,\n",
       "        2.00886795e-308, 3.38460675e+125, 3.69028917e+180,\n",
       "        3.12194811e-308]])"
      ]
     },
     "execution_count": 11,
     "metadata": {},
     "output_type": "execute_result"
    }
   ],
   "source": [
    "np.empty ((7,7))                  #creates array for zeros in a 7 by 7 order.\n"
   ]
  },
  {
   "cell_type": "code",
   "execution_count": 12,
   "metadata": {},
   "outputs": [
    {
     "data": {
      "text/plain": [
       "array([1, 2, 3, 4])"
      ]
     },
     "execution_count": 12,
     "metadata": {},
     "output_type": "execute_result"
    }
   ],
   "source": [
    "a = [1,2,3,4]\n",
    "np.array (a)"
   ]
  },
  {
   "cell_type": "code",
   "execution_count": 19,
   "metadata": {},
   "outputs": [],
   "source": [
    "b =np.arange (1,100,10)                               #how arrays created"
   ]
  },
  {
   "cell_type": "code",
   "execution_count": 20,
   "metadata": {},
   "outputs": [
    {
     "data": {
      "text/plain": [
       "(10,)"
      ]
     },
     "execution_count": 20,
     "metadata": {},
     "output_type": "execute_result"
    }
   ],
   "source": [
    "b.shape                    #FOR SHAPE POF ARRAY        One dimensional array with 10 elements."
   ]
  },
  {
   "cell_type": "code",
   "execution_count": 24,
   "metadata": {},
   "outputs": [],
   "source": [
    "x = np.zeros ((10,10))"
   ]
  },
  {
   "cell_type": "code",
   "execution_count": 26,
   "metadata": {},
   "outputs": [
    {
     "data": {
      "text/plain": [
       "(10, 10)"
      ]
     },
     "execution_count": 26,
     "metadata": {},
     "output_type": "execute_result"
    }
   ],
   "source": [
    "x.shape"
   ]
  },
  {
   "cell_type": "code",
   "execution_count": 29,
   "metadata": {},
   "outputs": [],
   "source": [
    "y = x.reshape ((2,2,5,5))                             #reshaped."
   ]
  },
  {
   "cell_type": "code",
   "execution_count": 30,
   "metadata": {},
   "outputs": [
    {
     "data": {
      "text/plain": [
       "array([[[[0., 0., 0., 0., 0.],\n",
       "         [0., 0., 0., 0., 0.],\n",
       "         [0., 0., 0., 0., 0.],\n",
       "         [0., 0., 0., 0., 0.],\n",
       "         [0., 0., 0., 0., 0.]],\n",
       "\n",
       "        [[0., 0., 0., 0., 0.],\n",
       "         [0., 0., 0., 0., 0.],\n",
       "         [0., 0., 0., 0., 0.],\n",
       "         [0., 0., 0., 0., 0.],\n",
       "         [0., 0., 0., 0., 0.]]],\n",
       "\n",
       "\n",
       "       [[[0., 0., 0., 0., 0.],\n",
       "         [0., 0., 0., 0., 0.],\n",
       "         [0., 0., 0., 0., 0.],\n",
       "         [0., 0., 0., 0., 0.],\n",
       "         [0., 0., 0., 0., 0.]],\n",
       "\n",
       "        [[0., 0., 0., 0., 0.],\n",
       "         [0., 0., 0., 0., 0.],\n",
       "         [0., 0., 0., 0., 0.],\n",
       "         [0., 0., 0., 0., 0.],\n",
       "         [0., 0., 0., 0., 0.]]]])"
      ]
     },
     "execution_count": 30,
     "metadata": {},
     "output_type": "execute_result"
    }
   ],
   "source": [
    "y"
   ]
  },
  {
   "cell_type": "code",
   "execution_count": 31,
   "metadata": {},
   "outputs": [
    {
     "data": {
      "text/plain": [
       "dtype('float64')"
      ]
     },
     "execution_count": 31,
     "metadata": {},
     "output_type": "execute_result"
    }
   ],
   "source": [
    "y.dtype              #datatype checked\n"
   ]
  },
  {
   "cell_type": "markdown",
   "metadata": {},
   "source": [
    "# Arthematics with ndArray"
   ]
  },
  {
   "cell_type": "code",
   "execution_count": 32,
   "metadata": {},
   "outputs": [],
   "source": [
    "# String data can also be stored in Numpy."
   ]
  },
  {
   "cell_type": "code",
   "execution_count": 33,
   "metadata": {},
   "outputs": [],
   "source": [
    "# Array oriented  operations are performed in Numpy.\n",
    "#  Also called two arrays.\n",
    "# Any scalar required to be multiplied by any Vector - this operation can also be performed."
   ]
  },
  {
   "cell_type": "code",
   "execution_count": 34,
   "metadata": {},
   "outputs": [],
   "source": [
    "a = np.random.randn((10))"
   ]
  },
  {
   "cell_type": "code",
   "execution_count": 35,
   "metadata": {},
   "outputs": [],
   "source": [
    "b = np.random.randn((10))"
   ]
  },
  {
   "cell_type": "code",
   "execution_count": 36,
   "metadata": {},
   "outputs": [
    {
     "data": {
      "text/plain": [
       "array([-1.43187265, -1.01860914,  0.9132669 , -0.48859637,  0.95507277,\n",
       "        0.31775242,  0.03691037, -0.09084431,  0.52470983, -0.19341456])"
      ]
     },
     "execution_count": 36,
     "metadata": {},
     "output_type": "execute_result"
    }
   ],
   "source": [
    "a"
   ]
  },
  {
   "cell_type": "code",
   "execution_count": 37,
   "metadata": {},
   "outputs": [
    {
     "data": {
      "text/plain": [
       "array([-1.69453138,  1.28468258, -0.05848149, -1.21031418, -1.27691276,\n",
       "       -1.07864776,  0.66641819, -0.15593879, -1.38001258, -0.23192756])"
      ]
     },
     "execution_count": 37,
     "metadata": {},
     "output_type": "execute_result"
    }
   ],
   "source": [
    "b"
   ]
  },
  {
   "cell_type": "code",
   "execution_count": 38,
   "metadata": {},
   "outputs": [
    {
     "data": {
      "text/plain": [
       "array([-3.12640403,  0.26607344,  0.8547854 , -1.69891055, -0.32183999,\n",
       "       -0.76089534,  0.70332855, -0.2467831 , -0.85530275, -0.42534212])"
      ]
     },
     "execution_count": 38,
     "metadata": {},
     "output_type": "execute_result"
    }
   ],
   "source": [
    "a+b"
   ]
  },
  {
   "cell_type": "code",
   "execution_count": 39,
   "metadata": {},
   "outputs": [],
   "source": [
    "#  Numpy arrays can be added, subtracted or multiplied in Numpy but this operation couldn't be performed in a List."
   ]
  },
  {
   "cell_type": "code",
   "execution_count": 40,
   "metadata": {},
   "outputs": [
    {
     "data": {
      "text/plain": [
       "array([ 0.26265872, -2.30329172,  0.97174839,  0.7217178 ,  2.23198553,\n",
       "        1.39640018, -0.62950782,  0.06509448,  1.90472242,  0.03851299])"
      ]
     },
     "execution_count": 40,
     "metadata": {},
     "output_type": "execute_result"
    }
   ],
   "source": [
    "a-b"
   ]
  },
  {
   "cell_type": "code",
   "execution_count": 42,
   "metadata": {},
   "outputs": [
    {
     "data": {
      "text/plain": [
       "array([False, False,  True, False,  True,  True,  True, False,  True,\n",
       "       False])"
      ]
     },
     "execution_count": 42,
     "metadata": {},
     "output_type": "execute_result"
    }
   ],
   "source": [
    "a>0           #boolean array generated."
   ]
  },
  {
   "cell_type": "code",
   "execution_count": 44,
   "metadata": {},
   "outputs": [
    {
     "data": {
      "text/plain": [
       "array([0.9132669 , 0.95507277, 0.31775242, 0.03691037, 0.52470983])"
      ]
     },
     "execution_count": 44,
     "metadata": {},
     "output_type": "execute_result"
    }
   ],
   "source": [
    "a[a>0]                  #a packed hence only True elements picked and given in output."
   ]
  },
  {
   "cell_type": "markdown",
   "metadata": {},
   "source": [
    "# Indexing and Slicing"
   ]
  },
  {
   "cell_type": "code",
   "execution_count": 46,
   "metadata": {},
   "outputs": [],
   "source": [
    "#  Position specified and indexing and slicing done.\n",
    "# Fancy indexing can also be done.   ==> Calling elements by means of only mentioning the indexes specified."
   ]
  },
  {
   "cell_type": "code",
   "execution_count": 53,
   "metadata": {},
   "outputs": [],
   "source": [
    "x = np.array ([1,7,9,8,5])"
   ]
  },
  {
   "cell_type": "code",
   "execution_count": 54,
   "metadata": {},
   "outputs": [
    {
     "data": {
      "text/plain": [
       "5"
      ]
     },
     "execution_count": 54,
     "metadata": {},
     "output_type": "execute_result"
    }
   ],
   "source": [
    "x[4]"
   ]
  },
  {
   "cell_type": "code",
   "execution_count": 55,
   "metadata": {},
   "outputs": [
    {
     "data": {
      "text/plain": [
       "array([False,  True,  True,  True, False])"
      ]
     },
     "execution_count": 55,
     "metadata": {},
     "output_type": "execute_result"
    }
   ],
   "source": [
    "x>5"
   ]
  },
  {
   "cell_type": "code",
   "execution_count": 56,
   "metadata": {},
   "outputs": [
    {
     "data": {
      "text/plain": [
       "array([7, 9, 8])"
      ]
     },
     "execution_count": 56,
     "metadata": {},
     "output_type": "execute_result"
    }
   ],
   "source": [
    "x[x>5]"
   ]
  },
  {
   "cell_type": "code",
   "execution_count": 58,
   "metadata": {},
   "outputs": [
    {
     "data": {
      "text/plain": [
       "array([9, 7])"
      ]
     },
     "execution_count": 58,
     "metadata": {},
     "output_type": "execute_result"
    }
   ],
   "source": [
    "x[[2,1]]"
   ]
  },
  {
   "cell_type": "code",
   "execution_count": 59,
   "metadata": {},
   "outputs": [
    {
     "data": {
      "text/plain": [
       "array([[ 4.42028637e-01, -5.27804473e-01, -3.06399957e-03,\n",
       "         7.80575854e-01, -3.11549342e-01,  5.14199915e-01,\n",
       "        -1.24004498e+00, -6.15404361e-01, -9.28805527e-01,\n",
       "         5.92363942e-01],\n",
       "       [-1.09038052e+00,  1.87959939e+00, -7.67472696e-01,\n",
       "         6.15149730e-01, -3.17863925e-01,  6.27447121e-02,\n",
       "        -4.55060570e-02, -3.64206183e-01,  9.66977879e-01,\n",
       "        -4.78232272e-01],\n",
       "       [ 8.89453723e-01, -1.82821974e+00, -8.43331895e-01,\n",
       "         1.26001740e+00,  3.87759008e-01, -5.61137137e-01,\n",
       "        -5.91692809e-01, -7.63153690e-01, -2.98090626e-01,\n",
       "        -3.69328266e-01],\n",
       "       [-7.70565853e-01,  1.36299902e+00, -2.05323863e-01,\n",
       "         2.25199068e-01, -1.59304857e+00, -1.43346528e+00,\n",
       "        -1.36762302e+00,  7.03572403e-01,  8.95723305e-01,\n",
       "         8.67668200e-01],\n",
       "       [-9.93000515e-01,  2.72357507e-01,  3.23712139e-01,\n",
       "        -3.82233608e-01,  5.34369752e-01, -8.44199920e-01,\n",
       "         5.42852767e-01,  8.17272797e-01, -1.72533952e-01,\n",
       "        -8.23940753e-01],\n",
       "       [ 6.90582932e-01,  8.65519860e-01, -6.77245662e-02,\n",
       "         1.43614779e+00, -5.59436410e-02,  9.32990103e-01,\n",
       "        -1.21775006e+00,  2.19632478e-01, -1.41737523e-01,\n",
       "        -1.16422094e+00],\n",
       "       [-2.60931282e-01,  5.48600195e-01, -3.12390488e+00,\n",
       "        -4.73012950e-01, -1.59653987e+00,  9.06167540e-01,\n",
       "         7.87128857e-01, -3.13979886e-01,  1.43180409e+00,\n",
       "         1.38932529e-01],\n",
       "       [ 1.80567220e-01, -5.99271972e-01, -8.95531120e-01,\n",
       "         4.65631481e-01,  5.84321480e-01,  1.17983947e+00,\n",
       "        -8.90076820e-01, -4.24282085e-01, -6.58420996e-01,\n",
       "        -1.97080666e+00],\n",
       "       [ 9.80489738e-01,  1.98180474e-01, -2.90730691e-01,\n",
       "         9.30128170e-01,  1.59250205e+00,  1.50809845e+00,\n",
       "         7.29748175e-01, -2.36054787e-01, -2.83682283e+00,\n",
       "        -7.39507004e-01],\n",
       "       [ 1.14924457e+00,  1.81310201e+00, -7.67160147e-01,\n",
       "        -1.66533824e-01,  2.03248197e-01,  7.62013786e-01,\n",
       "         5.31223665e-02, -4.43896600e-01,  7.60922957e-02,\n",
       "         5.44997980e-01]])"
      ]
     },
     "execution_count": 59,
     "metadata": {},
     "output_type": "execute_result"
    }
   ],
   "source": [
    "a = np.random.randn(10,10)\n",
    "a"
   ]
  },
  {
   "cell_type": "code",
   "execution_count": 61,
   "metadata": {},
   "outputs": [
    {
     "data": {
      "text/plain": [
       "array([ 0.44202864, -0.52780447, -0.003064  ,  0.78057585, -0.31154934,\n",
       "        0.51419992, -1.24004498, -0.61540436, -0.92880553,  0.59236394])"
      ]
     },
     "execution_count": 61,
     "metadata": {},
     "output_type": "execute_result"
    }
   ],
   "source": [
    "a[0]            #first row called."
   ]
  },
  {
   "cell_type": "code",
   "execution_count": 62,
   "metadata": {},
   "outputs": [
    {
     "data": {
      "text/plain": [
       "0.5141999150527002"
      ]
     },
     "execution_count": 62,
     "metadata": {},
     "output_type": "execute_result"
    }
   ],
   "source": [
    "a [0][5]    #first row, 5 th column called"
   ]
  },
  {
   "cell_type": "code",
   "execution_count": 65,
   "metadata": {},
   "outputs": [
    {
     "data": {
      "text/plain": [
       "array([[-1.09038052,  1.87959939, -0.7674727 ,  0.61514973, -0.31786393,\n",
       "         0.06274471, -0.04550606, -0.36420618,  0.96697788, -0.47823227],\n",
       "       [-0.77056585,  1.36299902, -0.20532386,  0.22519907, -1.59304857,\n",
       "        -1.43346528, -1.36762302,  0.7035724 ,  0.89572331,  0.8676682 ],\n",
       "       [ 0.69058293,  0.86551986, -0.06772457,  1.43614779, -0.05594364,\n",
       "         0.9329901 , -1.21775006,  0.21963248, -0.14173752, -1.16422094],\n",
       "       [ 0.18056722, -0.59927197, -0.89553112,  0.46563148,  0.58432148,\n",
       "         1.17983947, -0.89007682, -0.42428209, -0.658421  , -1.97080666],\n",
       "       [ 1.14924457,  1.81310201, -0.76716015, -0.16653382,  0.2032482 ,\n",
       "         0.76201379,  0.05312237, -0.4438966 ,  0.0760923 ,  0.54499798]])"
      ]
     },
     "execution_count": 65,
     "metadata": {},
     "output_type": "execute_result"
    }
   ],
   "source": [
    "a[1:10:2]               #1 = 1st row, 10= 10th column, step=2"
   ]
  },
  {
   "cell_type": "code",
   "execution_count": 67,
   "metadata": {},
   "outputs": [
    {
     "data": {
      "text/plain": [
       "array([[ 4.42028637e-01, -5.27804473e-01, -3.06399957e-03,\n",
       "         7.80575854e-01],\n",
       "       [-1.09038052e+00,  1.87959939e+00, -7.67472696e-01,\n",
       "         6.15149730e-01],\n",
       "       [ 8.89453723e-01, -1.82821974e+00, -8.43331895e-01,\n",
       "         1.26001740e+00],\n",
       "       [-7.70565853e-01,  1.36299902e+00, -2.05323863e-01,\n",
       "         2.25199068e-01],\n",
       "       [-9.93000515e-01,  2.72357507e-01,  3.23712139e-01,\n",
       "        -3.82233608e-01],\n",
       "       [ 6.90582932e-01,  8.65519860e-01, -6.77245662e-02,\n",
       "         1.43614779e+00],\n",
       "       [-2.60931282e-01,  5.48600195e-01, -3.12390488e+00,\n",
       "        -4.73012950e-01],\n",
       "       [ 1.80567220e-01, -5.99271972e-01, -8.95531120e-01,\n",
       "         4.65631481e-01],\n",
       "       [ 9.80489738e-01,  1.98180474e-01, -2.90730691e-01,\n",
       "         9.30128170e-01],\n",
       "       [ 1.14924457e+00,  1.81310201e+00, -7.67160147e-01,\n",
       "        -1.66533824e-01]])"
      ]
     },
     "execution_count": 67,
     "metadata": {},
     "output_type": "execute_result"
    }
   ],
   "source": [
    "a[::,0:4]         #all rows, columns 4"
   ]
  },
  {
   "cell_type": "code",
   "execution_count": 71,
   "metadata": {},
   "outputs": [],
   "source": [
    "b = np.ones((5,5))"
   ]
  },
  {
   "cell_type": "code",
   "execution_count": 72,
   "metadata": {},
   "outputs": [
    {
     "data": {
      "text/plain": [
       "array([[1., 1., 1., 1., 1.],\n",
       "       [1., 1., 1., 1., 1.],\n",
       "       [1., 1., 1., 1., 1.],\n",
       "       [1., 1., 1., 1., 1.],\n",
       "       [1., 1., 1., 1., 1.]])"
      ]
     },
     "execution_count": 72,
     "metadata": {},
     "output_type": "execute_result"
    }
   ],
   "source": [
    "b"
   ]
  },
  {
   "cell_type": "code",
   "execution_count": 75,
   "metadata": {},
   "outputs": [
    {
     "data": {
      "text/plain": [
       "array([[1., 1., 1., 1., 1.],\n",
       "       [1., 0., 0., 0., 1.],\n",
       "       [1., 0., 0., 0., 1.],\n",
       "       [1., 0., 0., 0., 1.],\n",
       "       [1., 1., 1., 1., 1.]])"
      ]
     },
     "execution_count": 75,
     "metadata": {},
     "output_type": "execute_result"
    }
   ],
   "source": [
    "b[1:-1,1:-1]=0                                   #an array of 5by5 created where all elements = 0 except the corner ones.\n",
    "b"
   ]
  },
  {
   "cell_type": "markdown",
   "metadata": {},
   "source": [
    "\n",
    "# NUMPY FUNCTIONS "
   ]
  },
  {
   "cell_type": "code",
   "execution_count": 88,
   "metadata": {},
   "outputs": [],
   "source": [
    "x = np.array ([10,9,8,6,11])\n"
   ]
  },
  {
   "cell_type": "code",
   "execution_count": 89,
   "metadata": {},
   "outputs": [
    {
     "data": {
      "text/plain": [
       "array([3.16227766, 3.        , 2.82842712, 2.44948974, 3.31662479])"
      ]
     },
     "execution_count": 89,
     "metadata": {},
     "output_type": "execute_result"
    }
   ],
   "source": [
    "np.sqrt(x)                                         #square roots of 'x'"
   ]
  },
  {
   "cell_type": "code",
   "execution_count": 90,
   "metadata": {},
   "outputs": [
    {
     "data": {
      "text/plain": [
       "array([100,  81,  64,  36, 121])"
      ]
     },
     "execution_count": 90,
     "metadata": {},
     "output_type": "execute_result"
    }
   ],
   "source": [
    "np.power (x,2)                                   #square of 'x'"
   ]
  },
  {
   "cell_type": "code",
   "execution_count": 93,
   "metadata": {},
   "outputs": [],
   "source": [
    "y = np.array ([1,3,5,6,7])"
   ]
  },
  {
   "cell_type": "code",
   "execution_count": 95,
   "metadata": {},
   "outputs": [
    {
     "data": {
      "text/plain": [
       "array([10,  9,  8,  6, 11])"
      ]
     },
     "execution_count": 95,
     "metadata": {},
     "output_type": "execute_result"
    }
   ],
   "source": [
    "np.maximum(x,y)                           #max from both arrays passed. x max = 10, y max = 7, so 10 given and so on."
   ]
  },
  {
   "cell_type": "markdown",
   "metadata": {},
   "source": [
    "# np.where"
   ]
  },
  {
   "cell_type": "code",
   "execution_count": 96,
   "metadata": {},
   "outputs": [],
   "source": [
    "# Ternary operators where you first specify conditiion, if found True 1st expression will be selected and  2st value is\n",
    "# specified only when 1st is false.\n",
    "#  Ternary operator applies on whole array.\n"
   ]
  },
  {
   "cell_type": "code",
   "execution_count": null,
   "metadata": {},
   "outputs": [],
   "source": [
    "#  In data, where values not disclosed or zero given canbe replaced by some value of statement 'N/A' 'Not 'Ok' or etc\n",
    "#  \"where\" is used for this."
   ]
  },
  {
   "cell_type": "code",
   "execution_count": 97,
   "metadata": {},
   "outputs": [
    {
     "data": {
      "text/plain": [
       "array([     0,     -1, 100000, 350000])"
      ]
     },
     "execution_count": 97,
     "metadata": {},
     "output_type": "execute_result"
    }
   ],
   "source": [
    "salary = np.array ([0, -1, 100000, 350000])\n",
    "salary"
   ]
  },
  {
   "cell_type": "code",
   "execution_count": 98,
   "metadata": {},
   "outputs": [
    {
     "data": {
      "text/plain": [
       "array([ 25000,  25000, 100000, 350000])"
      ]
     },
     "execution_count": 98,
     "metadata": {},
     "output_type": "execute_result"
    }
   ],
   "source": [
    " np.where (salary <= 0, 25000,salary)               #on places of vacancy or value <0, 25k assigned."
   ]
  },
  {
   "cell_type": "code",
   "execution_count": 100,
   "metadata": {},
   "outputs": [
    {
     "data": {
      "text/plain": [
       "array(['Not Ok', 'Not Ok', '100000', '350000'], dtype='<U21')"
      ]
     },
     "execution_count": 100,
     "metadata": {},
     "output_type": "execute_result"
    }
   ],
   "source": [
    "np.where(salary<=0, 'Not Ok',salary)"
   ]
  },
  {
   "cell_type": "markdown",
   "metadata": {},
   "source": [
    "# Mathematical and Statistical Methods"
   ]
  },
  {
   "cell_type": "code",
   "execution_count": 121,
   "metadata": {},
   "outputs": [],
   "source": [
    "import numpy as np"
   ]
  },
  {
   "cell_type": "code",
   "execution_count": 122,
   "metadata": {},
   "outputs": [
    {
     "data": {
      "text/plain": [
       "array([10,  9,  8,  7,  8, 10])"
      ]
     },
     "execution_count": 122,
     "metadata": {},
     "output_type": "execute_result"
    }
   ],
   "source": [
    "a= np.array([10,9,8,7,8,10])\n",
    "a"
   ]
  },
  {
   "cell_type": "code",
   "execution_count": 123,
   "metadata": {},
   "outputs": [
    {
     "data": {
      "text/plain": [
       "8.666666666666666"
      ]
     },
     "execution_count": 123,
     "metadata": {},
     "output_type": "execute_result"
    }
   ],
   "source": [
    "a.mean()                                                   #for mean."
   ]
  },
  {
   "cell_type": "code",
   "execution_count": 124,
   "metadata": {},
   "outputs": [
    {
     "data": {
      "text/plain": [
       "array([10, 19, 27, 34, 42, 52])"
      ]
     },
     "execution_count": 124,
     "metadata": {},
     "output_type": "execute_result"
    }
   ],
   "source": [
    "a.cumsum()                            #cumulative sum of a."
   ]
  },
  {
   "cell_type": "code",
   "execution_count": 125,
   "metadata": {},
   "outputs": [
    {
     "data": {
      "text/plain": [
       "array([    10,     90,    720,   5040,  40320, 403200])"
      ]
     },
     "execution_count": 125,
     "metadata": {},
     "output_type": "execute_result"
    }
   ],
   "source": [
    "a.cumprod()                             #cumulative product."
   ]
  },
  {
   "cell_type": "code",
   "execution_count": 126,
   "metadata": {},
   "outputs": [
    {
     "data": {
      "text/plain": [
       "array([ True,  True,  True,  True,  True,  True])"
      ]
     },
     "execution_count": 126,
     "metadata": {},
     "output_type": "execute_result"
    }
   ],
   "source": [
    "b = a>5\n",
    "b"
   ]
  },
  {
   "cell_type": "code",
   "execution_count": 127,
   "metadata": {},
   "outputs": [
    {
     "data": {
      "text/plain": [
       "6"
      ]
     },
     "execution_count": 127,
     "metadata": {},
     "output_type": "execute_result"
    }
   ],
   "source": [
    "b.sum()"
   ]
  },
  {
   "cell_type": "code",
   "execution_count": 128,
   "metadata": {},
   "outputs": [
    {
     "data": {
      "text/plain": [
       "True"
      ]
     },
     "execution_count": 128,
     "metadata": {},
     "output_type": "execute_result"
    }
   ],
   "source": [
    "b.any()             #if any true."
   ]
  },
  {
   "cell_type": "code",
   "execution_count": 129,
   "metadata": {},
   "outputs": [
    {
     "data": {
      "text/plain": [
       "True"
      ]
     },
     "execution_count": 129,
     "metadata": {},
     "output_type": "execute_result"
    }
   ],
   "source": [
    "b.all()                #if all true."
   ]
  },
  {
   "cell_type": "code",
   "execution_count": 134,
   "metadata": {},
   "outputs": [
    {
     "data": {
      "text/plain": [
       "array([ 7,  8,  8,  9, 10, 10])"
      ]
     },
     "execution_count": 134,
     "metadata": {},
     "output_type": "execute_result"
    }
   ],
   "source": [
    "a.sort()\n",
    "a"
   ]
  },
  {
   "cell_type": "code",
   "execution_count": 136,
   "metadata": {},
   "outputs": [
    {
     "data": {
      "text/plain": [
       "array([ 7,  8,  9, 10])"
      ]
     },
     "execution_count": 136,
     "metadata": {},
     "output_type": "execute_result"
    }
   ],
   "source": [
    "np.unique(a)                              #unique elements."
   ]
  },
  {
   "cell_type": "markdown",
   "metadata": {},
   "source": [
    "# File Input Output"
   ]
  },
  {
   "cell_type": "code",
   "execution_count": 137,
   "metadata": {},
   "outputs": [],
   "source": [
    "# Numpy benefit ====> nall arrays can be saved here. \n",
    "# not only individual arrays saved but many can be + uploaded."
   ]
  },
  {
   "cell_type": "code",
   "execution_count": 138,
   "metadata": {},
   "outputs": [],
   "source": [
    "#  np.save() =====> to save a file\n",
    "#  np.savez ======> to save many files.\n"
   ]
  },
  {
   "cell_type": "code",
   "execution_count": 142,
   "metadata": {},
   "outputs": [
    {
     "data": {
      "text/plain": [
       "[1, 2, 3, 4, 5]"
      ]
     },
     "execution_count": 142,
     "metadata": {},
     "output_type": "execute_result"
    }
   ],
   "source": [
    "a =[1,2,3,4, 5]\n",
    "a"
   ]
  },
  {
   "cell_type": "code",
   "execution_count": 144,
   "metadata": {},
   "outputs": [
    {
     "data": {
      "text/plain": [
       "[10, 20, 30, 40, 50, 60]"
      ]
     },
     "execution_count": 144,
     "metadata": {},
     "output_type": "execute_result"
    }
   ],
   "source": [
    "b = [10,20,30,40,50,60]\n",
    "b"
   ]
  },
  {
   "cell_type": "code",
   "execution_count": 148,
   "metadata": {},
   "outputs": [],
   "source": [
    "np.save('texta',a)"
   ]
  },
  {
   "cell_type": "code",
   "execution_count": 150,
   "metadata": {},
   "outputs": [],
   "source": [
    "loada= np.load('texta.npy')"
   ]
  },
  {
   "cell_type": "code",
   "execution_count": 151,
   "metadata": {},
   "outputs": [
    {
     "data": {
      "text/plain": [
       "array([1, 2, 3, 4, 5])"
      ]
     },
     "execution_count": 151,
     "metadata": {},
     "output_type": "execute_result"
    }
   ],
   "source": [
    "loada                                                #loaded"
   ]
  },
  {
   "cell_type": "code",
   "execution_count": 152,
   "metadata": {},
   "outputs": [],
   "source": [
    "np.savez (\"textab\", a,b)"
   ]
  },
  {
   "cell_type": "code",
   "execution_count": 156,
   "metadata": {},
   "outputs": [
    {
     "data": {
      "text/plain": [
       "<numpy.lib.npyio.NpzFile at 0x7f7e20d61510>"
      ]
     },
     "execution_count": 156,
     "metadata": {},
     "output_type": "execute_result"
    }
   ],
   "source": [
    "loadab= np.load(\"textab.npz\")                      #2files saved+ loaded\n",
    "loadab"
   ]
  },
  {
   "cell_type": "markdown",
   "metadata": {},
   "source": [
    "# Linear ALgebra Operations "
   ]
  },
  {
   "cell_type": "code",
   "execution_count": 157,
   "metadata": {},
   "outputs": [],
   "source": [
    "#  since numpy = complete pkg, linear algebra also available."
   ]
  },
  {
   "cell_type": "code",
   "execution_count": 158,
   "metadata": {},
   "outputs": [
    {
     "data": {
      "text/plain": [
       "'diag===> Return the diagonal (or off-diagonal) elements of a square matrix as a 1D array, or convert a 1D array into a square\\nmatrix with zeros on the off-diagonal\\ndot===> Matrix multiplication\\ntrace====> Compute the sum of the diagonal elements\\ndet===> Compute the matrix determinant\\neig===> Compute the eigenvalues and eigenvectors of a square matrix\\ninv===> Compute the inverse of a square matrix\\npinv===> Compute the Moore-Penrose pseudo-inverse inverse of a square matrix\\nqr===> Compute the QR decomposition\\nsvd===> Compute the singular value decomposition (SVD)\\nsolve===> Solve the linear system Ax = b for x, where A is a square matrix\\nlstsq===> Compute the least-squares solution to y = Xb'"
      ]
     },
     "execution_count": 158,
     "metadata": {},
     "output_type": "execute_result"
    }
   ],
   "source": [
    "\"\"\"diag===> Return the diagonal (or off-diagonal) elements of a square matrix as a 1D array, or convert a 1D array into a square\n",
    "matrix with zeros on the off-diagonal\n",
    "dot===> Matrix multiplication\n",
    "trace====> Compute the sum of the diagonal elements\n",
    "det===> Compute the matrix determinant\n",
    "eig===> Compute the eigenvalues and eigenvectors of a square matrix\n",
    "inv===> Compute the inverse of a square matrix\n",
    "pinv===> Compute the Moore-Penrose pseudo-inverse inverse of a square matrix\n",
    "qr===> Compute the QR decomposition\n",
    "svd===> Compute the singular value decomposition (SVD)\n",
    "solve===> Solve the linear system Ax = b for x, where A is a square matrix\n",
    "lstsq===> Compute the least-squares solution to y = Xb\"\"\""
   ]
  },
  {
   "cell_type": "code",
   "execution_count": 159,
   "metadata": {},
   "outputs": [],
   "source": [
    "#  Row wise concatination ====> axis = 0, vstack  ===> column lenghtens in row wise concatenation\n",
    "# Column wise concatenation ===> axis 1, hstack ====> row lenthens in column wise concatenation"
   ]
  },
  {
   "cell_type": "code",
   "execution_count": 167,
   "metadata": {},
   "outputs": [],
   "source": [
    "x = [[1,2,3,4], [6,7,8,9]]\n",
    "y = [[8,6,5,9],[7,8,9,0]]"
   ]
  },
  {
   "cell_type": "code",
   "execution_count": 168,
   "metadata": {},
   "outputs": [],
   "source": [
    "arr1 = np.array (x)"
   ]
  },
  {
   "cell_type": "code",
   "execution_count": 169,
   "metadata": {},
   "outputs": [],
   "source": [
    "arr2 = np.array (y)"
   ]
  },
  {
   "cell_type": "code",
   "execution_count": 170,
   "metadata": {},
   "outputs": [
    {
     "data": {
      "text/plain": [
       "array([[1, 2, 3, 4],\n",
       "       [6, 7, 8, 9],\n",
       "       [8, 6, 5, 9],\n",
       "       [7, 8, 9, 0]])"
      ]
     },
     "execution_count": 170,
     "metadata": {},
     "output_type": "execute_result"
    }
   ],
   "source": [
    "np.concatenate ((arr1,arr2), axis =0)"
   ]
  },
  {
   "cell_type": "code",
   "execution_count": 171,
   "metadata": {},
   "outputs": [
    {
     "data": {
      "text/plain": [
       "array([[1, 2, 3, 4, 8, 6, 5, 9],\n",
       "       [6, 7, 8, 9, 7, 8, 9, 0]])"
      ]
     },
     "execution_count": 171,
     "metadata": {},
     "output_type": "execute_result"
    }
   ],
   "source": [
    "np.concatenate ((arr1,arr2), axis =1)"
   ]
  },
  {
   "cell_type": "code",
   "execution_count": 172,
   "metadata": {},
   "outputs": [
    {
     "data": {
      "text/plain": [
       "array([[1, 2, 3, 4],\n",
       "       [6, 7, 8, 9],\n",
       "       [8, 6, 5, 9],\n",
       "       [7, 8, 9, 0]])"
      ]
     },
     "execution_count": 172,
     "metadata": {},
     "output_type": "execute_result"
    }
   ],
   "source": [
    "np.vstack((arr1,arr2))            #row"
   ]
  },
  {
   "cell_type": "code",
   "execution_count": 173,
   "metadata": {},
   "outputs": [
    {
     "data": {
      "text/plain": [
       "array([[1, 2, 3, 4, 8, 6, 5, 9],\n",
       "       [6, 7, 8, 9, 7, 8, 9, 0]])"
      ]
     },
     "execution_count": 173,
     "metadata": {},
     "output_type": "execute_result"
    }
   ],
   "source": []
  },
  {
   "cell_type": "code",
   "execution_count": null,
   "metadata": {},
   "outputs": [],
   "source": []
  }
 ],
 "metadata": {
  "kernelspec": {
   "display_name": "Python 3",
   "language": "python",
   "name": "python3"
  },
  "language_info": {
   "codemirror_mode": {
    "name": "ipython",
    "version": 3
   },
   "file_extension": ".py",
   "mimetype": "text/x-python",
   "name": "python",
   "nbconvert_exporter": "python",
   "pygments_lexer": "ipython3",
   "version": "3.7.4"
  }
 },
 "nbformat": 4,
 "nbformat_minor": 2
}
