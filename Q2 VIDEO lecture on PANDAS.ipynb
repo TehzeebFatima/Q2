{
 "cells": [
  {
   "cell_type": "code",
   "execution_count": 1,
   "metadata": {},
   "outputs": [],
   "source": [
    "# Numpy>> library of python with which multi dimensional arrays are formed. But Numpy has limitations so Pandas \n",
    "# (a step ahead of numpy) used. \n",
    "#  Pandas can handle large number of data. It basically uses Numpy features i.e dicing, slicing, merging, etc\n",
    " \n",
    "\n",
    "# Why use Pandas? \n",
    "\n",
    "# As a data scentist, the main work for us is to handle data, remove extra data or add the necessary one.  \n",
    "#  Different type of data stored, levels of rows can be used, more optimize to work on large num of data,\n",
    "#  +itional features.\n",
    "#  Most of the data> multidimensional and not scalar.\n",
    "#  Pandas is the tool to handle such data. \n",
    "#  Python dictionaries and lists have limitaions hence Pandas used.\n"
   ]
  },
  {
   "cell_type": "code",
   "execution_count": 2,
   "metadata": {},
   "outputs": [],
   "source": [
    "#  Data >> structured or unsctructured, quantitative or qualitative etc.\n",
    "#  Data >> textual ; comments, reviews, posts etc\n",
    "#          numeric ; labour force, literacy rate etc\n",
    "#          Pictures\n",
    "#          videos\n",
    "#          time series ; weather forecast\n",
    "#   data in time series = time bound i.e data must be put in some sequence which mustn't be changed. \n",
    "#                            >>special requirment of time series <<       \n",
    "\n",
    "\n",
    "\n",
    "\n",
    "#  Data processing>> ML (tesing, learning, etc) Preprocessing ( Pandas)>= Data pipeline (works on end to end data)\n",
    "# picture dataq >> saved in pixels ( 3 axis; x , y and color)\n",
    "#  Pandas help review data in rows and column. By labelling rows or numbering columns data can be called."
   ]
  },
  {
   "cell_type": "code",
   "execution_count": 3,
   "metadata": {},
   "outputs": [],
   "source": [
    "#    Data preprocessed, organized and dealt here.\n"
   ]
  },
  {
   "cell_type": "code",
   "execution_count": 4,
   "metadata": {},
   "outputs": [],
   "source": []
  },
  {
   "cell_type": "code",
   "execution_count": null,
   "metadata": {},
   "outputs": [],
   "source": []
  }
 ],
 "metadata": {
  "kernelspec": {
   "display_name": "Python 3",
   "language": "python",
   "name": "python3"
  },
  "language_info": {
   "codemirror_mode": {
    "name": "ipython",
    "version": 3
   },
   "file_extension": ".py",
   "mimetype": "text/x-python",
   "name": "python",
   "nbconvert_exporter": "python",
   "pygments_lexer": "ipython3",
   "version": "3.7.4"
  }
 },
 "nbformat": 4,
 "nbformat_minor": 2
}
